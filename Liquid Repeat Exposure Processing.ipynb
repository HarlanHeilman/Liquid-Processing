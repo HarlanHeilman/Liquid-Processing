{
 "cells": [
  {
   "cell_type": "code",
   "execution_count": 1,
   "id": "966139dd",
   "metadata": {},
   "outputs": [],
   "source": [
    "try: \n",
    "    import toolkit\n",
    "    import numpy as np\n",
    "    import ipywidgets as widgets\n",
    "    from astropy.io import fits\n",
    "    import matplotlib.pyplot as plt\n",
    "\n",
    "except ImportError:\n",
    "    import sys\n",
    "    !{sys.executable} -m pip install --user --upgrade matplotlib pandas astropy numpy shutil pathlib tkinter tqdm ipympl ipywidgets\n",
    "    print('Restart you kernel and try again')"
   ]
  },
  {
   "attachments": {},
   "cell_type": "markdown",
   "id": "a21b7c34",
   "metadata": {},
   "source": [
    "# Overview\n",
    "\n",
    "General process outline \n",
    "1. Chose a parent data directory\n",
    "2. Run the `processing()` function. This will do the following things\n",
    "    1. This starts by sorting files what have the `\"Repeat\"` keyword based on their directory. This should also just go ahead and sort the files based on their name into sub directories but I have not done that yet.\n",
    "    2. Next, the sorted fits files are loaded into `FitsLoader` type objects that allows them to be averaged and saved together. "
   ]
  },
  {
   "cell_type": "code",
   "execution_count": 7,
   "id": "ed81c4cf",
   "metadata": {
    "scrolled": false
   },
   "outputs": [
    {
     "data": {
      "application/vnd.jupyter.widget-view+json": {
       "model_id": "21f848af9f054ec6a890d58835e8f718",
       "version_major": 2,
       "version_minor": 0
      },
      "text/plain": [
       "0it [00:00, ?it/s]"
      ]
     },
     "metadata": {},
     "output_type": "display_data"
    }
   ],
   "source": [
    "directory = toolkit.file_dialog()\n",
    "liquid_data = toolkit.processing(directory)"
   ]
  },
  {
   "cell_type": "code",
   "execution_count": 6,
   "id": "e1dcc89a",
   "metadata": {},
   "outputs": [
    {
     "data": {
      "application/vnd.jupyter.widget-view+json": {
       "model_id": "d1be1957ffab47e7a505128bc3d12207",
       "version_major": 2,
       "version_minor": 0
      },
      "text/plain": [
       "interactive(children=(Dropdown(description='sample', options=('P123_Escan', 'Water_Escan_'), value='P123_Escan…"
      ]
     },
     "metadata": {},
     "output_type": "display_data"
    }
   ],
   "source": [
    "@widgets.interact(sample=liquid_data.keys())\n",
    "def show_plots(sample):\n",
    "    \n",
    "    @widgets.interact(energy=liquid_data[sample].keys())\n",
    "    def check_process(energy):\n",
    "        liquid_data[sample][energy].im_show()\n",
    "        liquid_data[sample][energy].im_show_avg()"
   ]
  },
  {
   "cell_type": "code",
   "execution_count": 9,
   "id": "1c4f73d3",
   "metadata": {},
   "outputs": [],
   "source": [
    "import pickle\n",
    "# You can save these objects with pickle"
   ]
  },
  {
   "attachments": {},
   "cell_type": "markdown",
   "id": "4ea030d2",
   "metadata": {},
   "source": [
    "# pyFAI\n",
    "\n",
    " (European Synchrotron)[https://www.youtube.com/watch?v=j0cphX3z2mM&t=288s][https://pyfai.readthedocs.io/en/v2023.1/]\n"
   ]
  },
  {
   "cell_type": "markdown",
   "id": "30e6ed49",
   "metadata": {},
   "source": []
  }
 ],
 "metadata": {
  "kernelspec": {
   "display_name": "Python 3 (ipykernel)",
   "language": "python",
   "name": "python3"
  },
  "language_info": {
   "codemirror_mode": {
    "name": "ipython",
    "version": 3
   },
   "file_extension": ".py",
   "mimetype": "text/x-python",
   "name": "python",
   "nbconvert_exporter": "python",
   "pygments_lexer": "ipython3",
   "version": "3.11.3"
  }
 },
 "nbformat": 4,
 "nbformat_minor": 5
}
